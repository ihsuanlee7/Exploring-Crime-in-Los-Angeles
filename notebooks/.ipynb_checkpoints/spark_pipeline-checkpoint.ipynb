{
 "cells": [
  {
   "cell_type": "code",
   "execution_count": null,
   "id": "ac5247f7",
   "metadata": {},
   "outputs": [],
   "source": [
    "from pyspark.sql import SparkSession\n",
    "import os\n",
    "\n",
    "# Initialize Spark session\n",
    "spark = SparkSession.builder.appName(\"Crime and Inspection Data Processing\").getOrCreate()\n",
    "\n",
    "# Ensure necessary directories exist\n",
    "os.makedirs(\"data/processed\", exist_ok=True)\n",
    "\n",
    "# Define paths for processed CSVs from DuckDB\n",
    "crime_data = \"data/processed/crime_final.csv\"\n",
    "ins_data = \"data/processed/ins.csv\"\n",
    "\n",
    "# Load cleaned data from DuckDB's output\n",
    "crime = spark.read.csv(crime_data, header=True, inferSchema=True)\n",
    "ins = spark.read.csv(ins_data, header=True, inferSchema=True)\n",
    "\n",
    "# Apply transformations (example: extract date information)\n",
    "from pyspark.sql.functions import year, month, col\n",
    "\n",
    "crime = crime.withColumn(\"Year\", year(col(\"DATE OCC\"))).withColumn(\"Month\", month(col(\"DATE OCC\")))\n",
    "ins = ins.withColumn(\"Year\", year(col(\"Inspection Date\"))).withColumn(\"Month\", month(col(\"Inspection Date\")))\n",
    "\n",
    "# Save transformed data for Tableau\n",
    "crime_output = \"data/processed/crime_final_spark.csv\"\n",
    "ins_output = \"data/processed/ins_final_spark.csv\"\n",
    "\n",
    "crime.write.csv(crime_output, header=True, mode=\"overwrite\")\n",
    "ins.write.csv(ins_output, header=True, mode=\"overwrite\")\n",
    "\n",
    "print(\"✅ Spark processing completed. Transformed data saved for Tableau.\")\n",
    "\n",
    "# Stop Spark session\n",
    "spark.stop()"
   ]
  }
 ],
 "metadata": {
  "kernelspec": {
   "display_name": "Python 3 (ipykernel)",
   "language": "python",
   "name": "python3"
  },
  "language_info": {
   "codemirror_mode": {
    "name": "ipython",
    "version": 3
   },
   "file_extension": ".py",
   "mimetype": "text/x-python",
   "name": "python",
   "nbconvert_exporter": "python",
   "pygments_lexer": "ipython3",
   "version": "3.12.7"
  }
 },
 "nbformat": 4,
 "nbformat_minor": 5
}
