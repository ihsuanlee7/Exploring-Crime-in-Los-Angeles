{
 "cells": [
  {
   "cell_type": "code",
   "execution_count": null,
   "id": "66732e4b",
   "metadata": {},
   "outputs": [],
   "source": [
    "import duckdb\n",
    "import os\n",
    "\n",
    "# Ensure necessary directories exist\n",
    "os.makedirs(\"data\", exist_ok=True)\n",
    "os.makedirs(\"data/raw\", exist_ok=True)\n",
    "os.makedirs(\"data/processed\", exist_ok=True)\n",
    "\n",
    "# Connect to DuckDB database stored in \"data/\" for cross-platform compatibility\n",
    "conn = duckdb.connect(\"data/my_database.db\")\n",
    "\n",
    "# Define paths for datasets\n",
    "crime_data = \"data/raw/crime.csv\"\n",
    "ins_data = \"data/raw/ins.csv\"\n",
    "\n",
    "# Load data into DuckDB tables\n",
    "conn.execute(f\"\"\"\n",
    "    CREATE TABLE IF NOT EXISTS crime AS \n",
    "    SELECT * FROM read_csv_auto('{crime_data}', HEADER=TRUE, DELIM=',')\n",
    "\"\"\")\n",
    "\n",
    "conn.execute(f\"\"\"\n",
    "    CREATE TABLE IF NOT EXISTS inspection AS \n",
    "    SELECT * FROM read_csv_auto('{ins_data}', HEADER=TRUE, DELIM=',')\n",
    "\"\"\")\n",
    "\n",
    "# Apply cleaning transformations (example: remove NULL values)\n",
    "conn.execute(\"DELETE FROM crime WHERE `Premis Desc` IS NULL;\")\n",
    "conn.execute(\"DELETE FROM inspection WHERE Latitude IS NULL OR Longitude IS NULL;\")\n",
    "\n",
    "# Save cleaned data as CSV for Spark processing\n",
    "processed_crime = \"data/processed/crime_final.csv\"\n",
    "processed_ins = \"data/processed/ins.csv\"\n",
    "\n",
    "conn.execute(f\"COPY crime TO '{processed_crime}' (FORMAT CSV, HEADER TRUE);\")\n",
    "conn.execute(f\"COPY inspection TO '{processed_ins}' (FORMAT CSV, HEADER TRUE);\")\n",
    "\n",
    "print(\"✅ DuckDB processing completed. Cleaned data saved for Spark.\")\n",
    "\n",
    "# Close connection\n",
    "conn.close()"
   ]
  }
 ],
 "metadata": {
  "kernelspec": {
   "display_name": "Python 3 (ipykernel)",
   "language": "python",
   "name": "python3"
  },
  "language_info": {
   "codemirror_mode": {
    "name": "ipython",
    "version": 3
   },
   "file_extension": ".py",
   "mimetype": "text/x-python",
   "name": "python",
   "nbconvert_exporter": "python",
   "pygments_lexer": "ipython3",
   "version": "3.12.7"
  }
 },
 "nbformat": 4,
 "nbformat_minor": 5
}
