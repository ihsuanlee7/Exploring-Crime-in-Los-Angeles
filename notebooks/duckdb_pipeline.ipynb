{
 "cells": [
  {
   "cell_type": "code",
   "execution_count": 6,
   "metadata": {},
   "outputs": [
    {
     "data": {
      "text/plain": [
       "<duckdb.duckdb.DuckDBPyConnection at 0x1070574b0>"
      ]
     },
     "execution_count": 6,
     "metadata": {},
     "output_type": "execute_result"
    }
   ],
   "source": [
    "import duckdb\n",
    "conn = duckdb.connect('/Users/neifang/Downloads/my_database.db')\n",
    "conn.execute(\"CREATE TABLE IF NOT EXISTS inspection AS SELECT * FROM read_csv_auto('/Users/neifang/Downloads/ins.csv', HEADER=TRUE, DELIM=',')\")"
   ]
  },
  {
   "cell_type": "code",
   "execution_count": 7,
   "metadata": {},
   "outputs": [
    {
     "data": {
      "text/plain": [
       "<duckdb.duckdb.DuckDBPyConnection at 0x1070574b0>"
      ]
     },
     "execution_count": 7,
     "metadata": {},
     "output_type": "execute_result"
    }
   ],
   "source": [
    "conn.execute(\"\"\"\n",
    "    CREATE TABLE IF NOT EXISTS crime AS \n",
    "    SELECT * \n",
    "    FROM read_csv_auto(\n",
    "        '/Users/neifang/Downloads/crime.csv', \n",
    "        HEADER=TRUE, \n",
    "        DELIM=','\n",
    "    )\n",
    "\"\"\")"
   ]
  },
  {
   "cell_type": "code",
   "execution_count": 8,
   "metadata": {},
   "outputs": [
    {
     "name": "stdout",
     "output_type": "stream",
     "text": [
      "[('crime',), ('inspection',)]\n"
     ]
    }
   ],
   "source": [
    "# List all tables in the database\n",
    "print(conn.execute(\"SHOW TABLES\").fetchall())"
   ]
  },
  {
   "cell_type": "code",
   "execution_count": 14,
   "metadata": {},
   "outputs": [
    {
     "data": {
      "text/plain": [
       "[('DR_NO', 'BIGINT', 'YES', None, None, None),\n",
       " ('Date Rptd', 'TIMESTAMP', 'YES', None, None, None),\n",
       " ('DATE OCC', 'TIMESTAMP', 'YES', None, None, None),\n",
       " ('TIME OCC', 'BIGINT', 'YES', None, None, None),\n",
       " ('AREA', 'BIGINT', 'YES', None, None, None),\n",
       " ('AREA NAME', 'VARCHAR', 'YES', None, None, None),\n",
       " ('Rpt Dist No', 'BIGINT', 'YES', None, None, None),\n",
       " ('Part 1-2', 'BIGINT', 'YES', None, None, None),\n",
       " ('Crm Cd', 'BIGINT', 'YES', None, None, None),\n",
       " ('Crm Cd Desc', 'VARCHAR', 'YES', None, None, None),\n",
       " ('Mocodes', 'VARCHAR', 'YES', None, None, None),\n",
       " ('Vict Age', 'BIGINT', 'YES', None, None, None),\n",
       " ('Vict Sex', 'VARCHAR', 'YES', None, None, None),\n",
       " ('Vict Descent', 'VARCHAR', 'YES', None, None, None),\n",
       " ('Premis Cd', 'BIGINT', 'YES', None, None, None),\n",
       " ('Premis Desc', 'VARCHAR', 'YES', None, None, None),\n",
       " ('Weapon Used Cd', 'BIGINT', 'YES', None, None, None),\n",
       " ('Weapon Desc', 'VARCHAR', 'YES', None, None, None),\n",
       " ('Status', 'VARCHAR', 'YES', None, None, None),\n",
       " ('Status Desc', 'VARCHAR', 'YES', None, None, None),\n",
       " ('Crm Cd 1', 'BIGINT', 'YES', None, None, None),\n",
       " ('Crm Cd 2', 'BIGINT', 'YES', None, None, None),\n",
       " ('Crm Cd 3', 'BIGINT', 'YES', None, None, None),\n",
       " ('Crm Cd 4', 'BIGINT', 'YES', None, None, None),\n",
       " ('LOCATION', 'VARCHAR', 'YES', None, None, None),\n",
       " ('Cross Street', 'VARCHAR', 'YES', None, None, None),\n",
       " ('LAT', 'DOUBLE', 'YES', None, None, None),\n",
       " ('LON', 'DOUBLE', 'YES', None, None, None),\n",
       " ('DayOfWeek OCC', 'VARCHAR', 'YES', None, None, None),\n",
       " ('nearby_inspection_count', 'INTEGER', 'YES', None, '0', None)]"
      ]
     },
     "execution_count": 14,
     "metadata": {},
     "output_type": "execute_result"
    }
   ],
   "source": [
    "conn.execute(\"DESCRIBE crime;\").fetchall()"
   ]
  },
  {
   "cell_type": "code",
   "execution_count": 37,
   "metadata": {},
   "outputs": [
    {
     "data": {
      "text/plain": [
       "[(190326475,\n",
       "  datetime.datetime(2020, 3, 1, 0, 0),\n",
       "  datetime.datetime(2020, 3, 1, 0, 0),\n",
       "  21,\n",
       "  7,\n",
       "  'Wilshire',\n",
       "  784,\n",
       "  1,\n",
       "  510,\n",
       "  'VEHICLE - STOLEN',\n",
       "  None,\n",
       "  0,\n",
       "  'M',\n",
       "  'O',\n",
       "  101,\n",
       "  'STREET',\n",
       "  None,\n",
       "  None,\n",
       "  'AA',\n",
       "  'Adult Arrest',\n",
       "  510,\n",
       "  998,\n",
       "  None,\n",
       "  None,\n",
       "  '1900 S  LONGWOOD                     AV',\n",
       "  None,\n",
       "  34.0375,\n",
       "  -118.3506,\n",
       "  'Sunday',\n",
       "  9652),\n",
       " (200106753,\n",
       "  datetime.datetime(2020, 2, 9, 0, 0),\n",
       "  datetime.datetime(2020, 2, 8, 0, 0),\n",
       "  18,\n",
       "  1,\n",
       "  'Central',\n",
       "  182,\n",
       "  1,\n",
       "  330,\n",
       "  'BURGLARY FROM VEHICLE',\n",
       "  '1822 1402 0344',\n",
       "  47,\n",
       "  'M',\n",
       "  'O',\n",
       "  128,\n",
       "  'BUS STOP/LAYOVER (ALSO QUERY 124)',\n",
       "  None,\n",
       "  None,\n",
       "  'IC',\n",
       "  'Invest Cont',\n",
       "  330,\n",
       "  998,\n",
       "  None,\n",
       "  None,\n",
       "  '1000 S  FLOWER                       ST',\n",
       "  None,\n",
       "  34.0444,\n",
       "  -118.2628,\n",
       "  'Saturday',\n",
       "  73430),\n",
       " (200320258,\n",
       "  datetime.datetime(2020, 11, 11, 0, 0),\n",
       "  datetime.datetime(2020, 11, 4, 0, 0),\n",
       "  17,\n",
       "  3,\n",
       "  'Southwest',\n",
       "  356,\n",
       "  1,\n",
       "  480,\n",
       "  'BIKE - STOLEN',\n",
       "  '0344 1251',\n",
       "  19,\n",
       "  'X',\n",
       "  'X',\n",
       "  502,\n",
       "  'MULTI-UNIT DWELLING (APARTMENT, DUPLEX, ETC)',\n",
       "  None,\n",
       "  None,\n",
       "  'IC',\n",
       "  'Invest Cont',\n",
       "  480,\n",
       "  None,\n",
       "  None,\n",
       "  None,\n",
       "  '1400 W  37TH                         ST',\n",
       "  None,\n",
       "  34.021,\n",
       "  -118.3002,\n",
       "  'Wednesday',\n",
       "  13375),\n",
       " (200907217,\n",
       "  datetime.datetime(2023, 5, 10, 0, 0),\n",
       "  datetime.datetime(2020, 3, 10, 0, 0),\n",
       "  20,\n",
       "  9,\n",
       "  'Van Nuys',\n",
       "  964,\n",
       "  1,\n",
       "  343,\n",
       "  'SHOPLIFTING-GRAND THEFT ($950.01 & OVER)',\n",
       "  '0325 1501',\n",
       "  19,\n",
       "  'M',\n",
       "  'O',\n",
       "  405,\n",
       "  'CLOTHING STORE',\n",
       "  None,\n",
       "  None,\n",
       "  'IC',\n",
       "  'Invest Cont',\n",
       "  343,\n",
       "  None,\n",
       "  None,\n",
       "  None,\n",
       "  '14000    RIVERSIDE                    DR',\n",
       "  None,\n",
       "  34.1576,\n",
       "  -118.4387,\n",
       "  'Tuesday',\n",
       "  14714),\n",
       " (200412582,\n",
       "  datetime.datetime(2020, 9, 9, 0, 0),\n",
       "  datetime.datetime(2020, 9, 9, 0, 0),\n",
       "  6,\n",
       "  4,\n",
       "  'Hollenbeck',\n",
       "  413,\n",
       "  1,\n",
       "  510,\n",
       "  'VEHICLE - STOLEN',\n",
       "  None,\n",
       "  0,\n",
       "  'Unidentified',\n",
       "  'Unidentified',\n",
       "  101,\n",
       "  'STREET',\n",
       "  None,\n",
       "  None,\n",
       "  'IC',\n",
       "  'Invest Cont',\n",
       "  510,\n",
       "  None,\n",
       "  None,\n",
       "  None,\n",
       "  '200 E  AVENUE 28',\n",
       "  None,\n",
       "  34.082,\n",
       "  -118.213,\n",
       "  'Wednesday',\n",
       "  6719)]"
      ]
     },
     "execution_count": 37,
     "metadata": {},
     "output_type": "execute_result"
    }
   ],
   "source": [
    "conn.execute(\"SELECT * FROM crime LIMIT 5;\").fetchall()"
   ]
  },
  {
   "cell_type": "code",
   "execution_count": 15,
   "metadata": {},
   "outputs": [
    {
     "name": "stdout",
     "output_type": "stream",
     "text": [
      "Column 'downtown_distance' added.\n"
     ]
    }
   ],
   "source": [
    "existing_columns = conn.execute(\"DESCRIBE crime\").fetchdf()['column_name'].tolist()\n",
    "\n",
    "# Add column only if it doesn't exist\n",
    "if 'downtown_distance' not in existing_columns:\n",
    "    conn.execute(\"ALTER TABLE crime ADD COLUMN downtown_distance TEXT;\")\n",
    "    print(\"Column 'downtown_distance' added.\")\n",
    "else:\n",
    "    print(\"Column 'downtown_distance' already exists.\")"
   ]
  },
  {
   "cell_type": "code",
   "execution_count": 16,
   "metadata": {},
   "outputs": [],
   "source": [
    "#compare the distance between the crime location and downtown LA\n",
    "distance_query =\"\"\"\n",
    "UPDATE crime\n",
    "SET downtown_distance = CASE\n",
    "    WHEN SQRT(\n",
    "            POW((LAT - 34.0522) * 111, 2) + \n",
    "            POW((LON - (-118.2437)) * 92, 2)\n",
    "        ) <= 10 THEN '0-10km'\n",
    "    WHEN SQRT(\n",
    "            POW((LAT - 34.0522) * 111, 2) + \n",
    "            POW((LON - (-118.2437)) * 92, 2)\n",
    "        ) <= 20 THEN '10-20km'\n",
    "    ELSE '>20km'\n",
    "END;\n",
    "\"\"\""
   ]
  },
  {
   "cell_type": "code",
   "execution_count": null,
   "metadata": {},
   "outputs": [],
   "source": [
    "distance_query = \"\"\"\n",
    "SELECT \n",
    "    *,\n",
    "    CASE\n",
    "        WHEN distance_km <= 10 THEN '0-10km'::downtown_distance\n",
    "        WHEN distance_km <= 20 THEN '10-20km'::downtown_distance\n",
    "        ELSE '>20km'::downtown_distance\n",
    "    END AS distance_group\n",
    "FROM (\n",
    "    SELECT\n",
    "        *,\n",
    "        -- Fast distance approximation from Downtown LA using planar coordinates according to forums:\n",
    "        -- (111 km/degree for latitude, 92 km/degree for longitude at 34°N)\n",
    "        SQRT(\n",
    "            POW((LAT - 34.0522) * 111, 2) + \n",
    "            POW((LON - (-118.2437)) * 92, 2)\n",
    "        ) AS distance_km\n",
    "    FROM crime\n",
    ") sub\n",
    "\"\"\"\n"
   ]
  },
  {
   "cell_type": "code",
   "execution_count": null,
   "metadata": {},
   "outputs": [
    {
     "data": {
      "text/plain": [
       "<duckdb.duckdb.DuckDBPyConnection at 0x1070574b0>"
      ]
     },
     "execution_count": 17,
     "metadata": {},
     "output_type": "execute_result"
    }
   ],
   "source": [
    "conn.execute(distance_query)"
   ]
  },
  {
   "cell_type": "code",
   "execution_count": 25,
   "metadata": {},
   "outputs": [
    {
     "data": {
      "text/plain": [
       "[('DR_NO', 'BIGINT', 'YES', None, None, None),\n",
       " ('Date Rptd', 'TIMESTAMP', 'YES', None, None, None),\n",
       " ('DATE OCC', 'TIMESTAMP', 'YES', None, None, None),\n",
       " ('TIME OCC', 'BIGINT', 'YES', None, None, None),\n",
       " ('AREA', 'BIGINT', 'YES', None, None, None),\n",
       " ('AREA NAME', 'VARCHAR', 'YES', None, None, None),\n",
       " ('Rpt Dist No', 'BIGINT', 'YES', None, None, None),\n",
       " ('Part 1-2', 'BIGINT', 'YES', None, None, None),\n",
       " ('Crm Cd', 'BIGINT', 'YES', None, None, None),\n",
       " ('Crm Cd Desc', 'VARCHAR', 'YES', None, None, None),\n",
       " ('Mocodes', 'VARCHAR', 'YES', None, None, None),\n",
       " ('Vict Age', 'BIGINT', 'YES', None, None, None),\n",
       " ('Vict Sex', 'VARCHAR', 'YES', None, None, None),\n",
       " ('Vict Descent', 'VARCHAR', 'YES', None, None, None),\n",
       " ('Premis Cd', 'BIGINT', 'YES', None, None, None),\n",
       " ('Premis Desc', 'VARCHAR', 'YES', None, None, None),\n",
       " ('Weapon Used Cd', 'BIGINT', 'YES', None, None, None),\n",
       " ('Weapon Desc', 'VARCHAR', 'YES', None, None, None),\n",
       " ('Status', 'VARCHAR', 'YES', None, None, None),\n",
       " ('Status Desc', 'VARCHAR', 'YES', None, None, None),\n",
       " ('Crm Cd 1', 'BIGINT', 'YES', None, None, None),\n",
       " ('Crm Cd 2', 'BIGINT', 'YES', None, None, None),\n",
       " ('Crm Cd 3', 'BIGINT', 'YES', None, None, None),\n",
       " ('Crm Cd 4', 'BIGINT', 'YES', None, None, None),\n",
       " ('LOCATION', 'VARCHAR', 'YES', None, None, None),\n",
       " ('Cross Street', 'VARCHAR', 'YES', None, None, None),\n",
       " ('LAT', 'DOUBLE', 'YES', None, None, None),\n",
       " ('LON', 'DOUBLE', 'YES', None, None, None),\n",
       " ('DayOfWeek OCC', 'VARCHAR', 'YES', None, None, None),\n",
       " ('nearby_inspection_count', 'INTEGER', 'YES', None, '0', None),\n",
       " ('downtown_distance', 'VARCHAR', 'YES', None, None, None)]"
      ]
     },
     "execution_count": 25,
     "metadata": {},
     "output_type": "execute_result"
    }
   ],
   "source": [
    "conn.execute(\"DESCRIBE crime\").fetchall()"
   ]
  },
  {
   "cell_type": "code",
   "execution_count": 26,
   "metadata": {},
   "outputs": [
    {
     "data": {
      "text/plain": [
       "<duckdb.duckdb.DuckDBPyConnection at 0x11f8100b0>"
      ]
     },
     "execution_count": 26,
     "metadata": {},
     "output_type": "execute_result"
    }
   ],
   "source": [
    "conn.execute(\"ALTER TABLE crime ADD COLUMN IF NOT EXISTS nearby_inspection_count INTEGER DEFAULT 0\")"
   ]
  },
  {
   "cell_type": "code",
   "execution_count": 35,
   "metadata": {},
   "outputs": [
    {
     "data": {
      "application/vnd.jupyter.widget-view+json": {
       "model_id": "e7d2e7fb5f1b41b1bba2c2aa5b3a7aa4",
       "version_major": 2,
       "version_minor": 0
      },
      "text/plain": [
       "FloatProgress(value=0.0, layout=Layout(width='auto'), style=ProgressStyle(bar_color='black'))"
      ]
     },
     "metadata": {},
     "output_type": "display_data"
    },
    {
     "data": {
      "text/plain": [
       "<duckdb.duckdb.DuckDBPyConnection at 0x11f8100b0>"
      ]
     },
     "execution_count": 35,
     "metadata": {},
     "output_type": "execute_result"
    }
   ],
   "source": [
    "# \n",
    "conn.execute(\"\"\"\n",
    "UPDATE crime \n",
    "SET nearby_inspection_count = (\n",
    "    SELECT COUNT(*)\n",
    "    FROM inspection\n",
    "    WHERE \n",
    "        -- Bounding box filter (fast first pass)\n",
    "        inspection.latitude BETWEEN crime.LAT - 0.005 AND crime.LAT + 0.005\n",
    "        AND inspection.longitude BETWEEN crime.LON - 0.005 AND crime.LON + 0.005\n",
    "        AND (POW((inspection.latitude - crime.LAT) * 111000, 2) + \n",
    "             POW((inspection.longitude - crime.LON) * 92000, 2)) < 250000  \n",
    ");\n",
    "\"\"\")"
   ]
  },
  {
   "cell_type": "code",
   "execution_count": 26,
   "metadata": {},
   "outputs": [
    {
     "data": {
      "text/plain": [
       "<duckdb.duckdb.DuckDBPyConnection at 0x395dc38b0>"
      ]
     },
     "execution_count": 26,
     "metadata": {},
     "output_type": "execute_result"
    }
   ],
   "source": [
    "conn.execute(\"COPY crime TO 'crime_final.csv' (FORMAT CSV, HEADER TRUE);\")\n"
   ]
  },
  {
   "cell_type": "code",
   "execution_count": 22,
   "metadata": {},
   "outputs": [],
   "source": [
    "conn.close()"
   ]
  },
  {
   "cell_type": "code",
   "execution_count": null,
   "metadata": {},
   "outputs": [],
   "source": [
    "# Verify the update worked by checking a few rows if needed\n",
    "result = conn.execute(\"SELECT * FROM crime LIMIT 5\").fetchdf()\n",
    "print(result)"
   ]
  },
  {
   "cell_type": "code",
   "execution_count": null,
   "metadata": {},
   "outputs": [
    {
     "name": "stdout",
     "output_type": "stream",
     "text": [
      "The path '/Users/neifang/Downloads/spark_processed/crime_processed.parquet' exists.\n"
     ]
    }
   ],
   "source": [
    "#helper cell to check file directory\n",
    "import os\n",
    "\n",
    "file_path = '/Users/neifang/Downloads/spark_processed/crime_processed.parquet'  # Replace with the actual file path\n",
    "\n",
    "if os.path.exists(file_path):\n",
    "    print(f\"The path '{file_path}' exists.\")\n",
    "else:\n",
    "    print(f\"The path '{file_path}' does not exist.\")"
   ]
  }
 ],
 "metadata": {
  "kernelspec": {
   "display_name": "base",
   "language": "python",
   "name": "python3"
  },
  "language_info": {
   "codemirror_mode": {
    "name": "ipython",
    "version": 3
   },
   "file_extension": ".py",
   "mimetype": "text/x-python",
   "name": "python",
   "nbconvert_exporter": "python",
   "pygments_lexer": "ipython3",
   "version": "3.11.8"
  }
 },
 "nbformat": 4,
 "nbformat_minor": 2
}
