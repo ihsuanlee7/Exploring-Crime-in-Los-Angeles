{
 "cells": [
  {
   "cell_type": "code",
   "execution_count": 1,
   "id": "66732e4b",
   "metadata": {},
   "outputs": [
    {
     "ename": "OSError",
     "evalue": "[Errno 45] Operation not supported: '/home/ubuntu'",
     "output_type": "error",
     "traceback": [
      "\u001b[0;31m---------------------------------------------------------------------------\u001b[0m",
      "\u001b[0;31mOSError\u001b[0m                                   Traceback (most recent call last)",
      "Cell \u001b[0;32mIn[1], line 6\u001b[0m\n\u001b[1;32m      3\u001b[0m \u001b[38;5;28;01mimport\u001b[39;00m \u001b[38;5;21;01mpandas\u001b[39;00m \u001b[38;5;28;01mas\u001b[39;00m \u001b[38;5;21;01mpd\u001b[39;00m\n\u001b[1;32m      5\u001b[0m \u001b[38;5;66;03m# Ensure necessary directories exist\u001b[39;00m\n\u001b[0;32m----> 6\u001b[0m os\u001b[38;5;241m.\u001b[39mmakedirs(\u001b[38;5;124m\"\u001b[39m\u001b[38;5;124m/home/ubuntu/data/processed\u001b[39m\u001b[38;5;124m\"\u001b[39m, exist_ok\u001b[38;5;241m=\u001b[39m\u001b[38;5;28;01mTrue\u001b[39;00m)\n\u001b[1;32m      8\u001b[0m \u001b[38;5;66;03m# Define file paths\u001b[39;00m\n\u001b[1;32m      9\u001b[0m crime_input_path \u001b[38;5;241m=\u001b[39m \u001b[38;5;124m\"\u001b[39m\u001b[38;5;124m/home/ubuntu/data/raw/Crime_Data_from_2020_to_Present_20250304.csv\u001b[39m\u001b[38;5;124m\"\u001b[39m\n",
      "File \u001b[0;32m<frozen os>:215\u001b[0m, in \u001b[0;36mmakedirs\u001b[0;34m(name, mode, exist_ok)\u001b[0m\n",
      "File \u001b[0;32m<frozen os>:215\u001b[0m, in \u001b[0;36mmakedirs\u001b[0;34m(name, mode, exist_ok)\u001b[0m\n",
      "File \u001b[0;32m<frozen os>:225\u001b[0m, in \u001b[0;36mmakedirs\u001b[0;34m(name, mode, exist_ok)\u001b[0m\n",
      "\u001b[0;31mOSError\u001b[0m: [Errno 45] Operation not supported: '/home/ubuntu'"
     ]
    }
   ],
   "source": [
    "import duckdb\n",
    "import os\n",
    "import pandas as pd\n",
    "\n",
    "# Ensure necessary directories exist\n",
    "os.makedirs(\"/home/ubuntu/data/processed\", exist_ok=True)\n",
    "\n",
    "# Define file paths\n",
    "crime_input_path = \"/home/ubuntu/data/raw/Crime_Data_from_2020_to_Present_20250304.csv\"\n",
    "ins_input_path = \"/home/ubuntu/data/raw/Building_and_Safety_Inspections.csv\"\n",
    "crime_output_path = \"/home/ubuntu/data/processed/crime_final.csv\"\n",
    "ins_output_path = \"/home/ubuntu/data/processed/ins.csv\"\n",
    "\n",
    "# Connect to DuckDB in-memory database\n",
    "con = duckdb.connect(database=\":memory:\")\n",
    "\n",
    "# Load raw crime data\n",
    "crime_df = pd.read_csv(crime_input_path)\n",
    "con.register(\"crime_raw\", crime_df)\n",
    "\n",
    "# Select relevant columns & transform\n",
    "crime_final = con.execute(\"\"\"\n",
    "    SELECT \n",
    "        \"DATE OCC\",\n",
    "        \"AREA NAME\",\n",
    "        \"Crm Cd Desc\",\n",
    "        \"Vict Age\",\n",
    "        \"Vict Sex\",\n",
    "        \"Vict Descent\"\n",
    "    FROM crime_raw\n",
    "\"\"\").df()\n",
    "\n",
    "# Save processed crime data\n",
    "crime_final.to_csv(crime_output_path, index=False)\n",
    "\n",
    "# Load raw inspection data\n",
    "ins_df = pd.read_csv(ins_input_path)\n",
    "con.register(\"ins_raw\", ins_df)\n",
    "\n",
    "# Select relevant columns & transform\n",
    "ins_final = con.execute(\"\"\"\n",
    "    SELECT \n",
    "        \"Inspection Date\",\n",
    "        \"Location\",\n",
    "        \"Action Taken\",\n",
    "        \"Result\",\n",
    "        \"Inspection Type\"\n",
    "    FROM ins_raw\n",
    "\"\"\").df()\n",
    "\n",
    "# Save processed inspection data\n",
    "ins_final.to_csv(ins_output_path, index=False)\n",
    "\n",
    "print(\"DuckDB processing completed. Processed data saved.\")\n",
    "\n",
    "# Close connection\n",
    "con.close()"
   ]
  }
 ],
 "metadata": {
  "kernelspec": {
   "display_name": "Python 3 (ipykernel)",
   "language": "python",
   "name": "python3"
  },
  "language_info": {
   "codemirror_mode": {
    "name": "ipython",
    "version": 3
   },
   "file_extension": ".py",
   "mimetype": "text/x-python",
   "name": "python",
   "nbconvert_exporter": "python",
   "pygments_lexer": "ipython3",
   "version": "3.12.7"
  }
 },
 "nbformat": 4,
 "nbformat_minor": 5
}
