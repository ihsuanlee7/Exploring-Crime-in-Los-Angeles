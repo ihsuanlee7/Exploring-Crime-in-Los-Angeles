{
 "cells": [
  {
   "cell_type": "markdown",
   "id": "2e4a7012",
   "metadata": {
    "tags": [
     "papermill-error-cell-tag"
    ]
   },
   "source": [
    "<span style=\"color:red; font-family:Helvetica Neue, Helvetica, Arial, sans-serif; font-size:2em;\">An Exception was encountered at '<a href=\"#papermill-error-cell\">In [1]</a>'.</span>"
   ]
  },
  {
   "cell_type": "markdown",
   "id": "593735e1",
   "metadata": {
    "tags": [
     "papermill-error-cell-tag"
    ]
   },
   "source": [
    "<span id=\"papermill-error-cell\" style=\"color:red; font-family:Helvetica Neue, Helvetica, Arial, sans-serif; font-size:2em;\">Execution using papermill encountered an exception here and stopped:</span>"
   ]
  },
  {
   "cell_type": "code",
   "execution_count": 1,
   "id": "66732e4b",
   "metadata": {
    "execution": {
     "iopub.execute_input": "2025-03-15T23:25:06.763521Z",
     "iopub.status.busy": "2025-03-15T23:25:06.763108Z",
     "iopub.status.idle": "2025-03-15T23:25:06.935030Z",
     "shell.execute_reply": "2025-03-15T23:25:06.934627Z"
    },
    "papermill": {
     "duration": 0.177449,
     "end_time": "2025-03-15T23:25:06.935615",
     "exception": true,
     "start_time": "2025-03-15T23:25:06.758166",
     "status": "failed"
    },
    "tags": []
   },
   "outputs": [
    {
     "ename": "IOException",
     "evalue": "IO Error: No files found that match the pattern \"data/raw/crime.csv\"",
     "output_type": "error",
     "traceback": [
      "\u001b[0;31m---------------------------------------------------------------------------\u001b[0m",
      "\u001b[0;31mIOException\u001b[0m                               Traceback (most recent call last)",
      "Cell \u001b[0;32mIn[1], line 17\u001b[0m\n\u001b[1;32m     14\u001b[0m ins_data \u001b[38;5;241m=\u001b[39m \u001b[38;5;124m\"\u001b[39m\u001b[38;5;124mdata/raw/ins.csv\u001b[39m\u001b[38;5;124m\"\u001b[39m\n\u001b[1;32m     16\u001b[0m \u001b[38;5;66;03m# Load data into DuckDB tables\u001b[39;00m\n\u001b[0;32m---> 17\u001b[0m conn\u001b[38;5;241m.\u001b[39mexecute(\u001b[38;5;124mf\u001b[39m\u001b[38;5;124m\"\"\"\u001b[39m\n\u001b[1;32m     18\u001b[0m \u001b[38;5;124m    CREATE TABLE IF NOT EXISTS crime AS \u001b[39m\n\u001b[1;32m     19\u001b[0m \u001b[38;5;124m    SELECT * FROM read_csv_auto(\u001b[39m\u001b[38;5;124m'\u001b[39m\u001b[38;5;132;01m{\u001b[39;00mcrime_data\u001b[38;5;132;01m}\u001b[39;00m\u001b[38;5;124m'\u001b[39m\u001b[38;5;124m, HEADER=TRUE, DELIM=\u001b[39m\u001b[38;5;124m'\u001b[39m\u001b[38;5;124m,\u001b[39m\u001b[38;5;124m'\u001b[39m\u001b[38;5;124m)\u001b[39m\n\u001b[1;32m     20\u001b[0m \u001b[38;5;124m\"\"\"\u001b[39m)\n\u001b[1;32m     22\u001b[0m conn\u001b[38;5;241m.\u001b[39mexecute(\u001b[38;5;124mf\u001b[39m\u001b[38;5;124m\"\"\"\u001b[39m\n\u001b[1;32m     23\u001b[0m \u001b[38;5;124m    CREATE TABLE IF NOT EXISTS inspection AS \u001b[39m\n\u001b[1;32m     24\u001b[0m \u001b[38;5;124m    SELECT * FROM read_csv_auto(\u001b[39m\u001b[38;5;124m'\u001b[39m\u001b[38;5;132;01m{\u001b[39;00mins_data\u001b[38;5;132;01m}\u001b[39;00m\u001b[38;5;124m'\u001b[39m\u001b[38;5;124m, HEADER=TRUE, DELIM=\u001b[39m\u001b[38;5;124m'\u001b[39m\u001b[38;5;124m,\u001b[39m\u001b[38;5;124m'\u001b[39m\u001b[38;5;124m)\u001b[39m\n\u001b[1;32m     25\u001b[0m \u001b[38;5;124m\"\"\"\u001b[39m)\n\u001b[1;32m     27\u001b[0m \u001b[38;5;66;03m# Apply cleaning transformations (example: remove NULL values)\u001b[39;00m\n",
      "\u001b[0;31mIOException\u001b[0m: IO Error: No files found that match the pattern \"data/raw/crime.csv\""
     ]
    }
   ],
   "source": [
    "import duckdb\n",
    "import os\n",
    "\n",
    "# Ensure necessary directories exist\n",
    "os.makedirs(\"data\", exist_ok=True)\n",
    "os.makedirs(\"data/raw\", exist_ok=True)\n",
    "os.makedirs(\"data/processed\", exist_ok=True)\n",
    "\n",
    "# Connect to DuckDB database stored in \"data/\" for cross-platform compatibility\n",
    "conn = duckdb.connect(\"data/my_database.db\")\n",
    "\n",
    "# Define paths for datasets\n",
    "crime_data = \"data/raw/crime.csv\"\n",
    "ins_data = \"data/raw/ins.csv\"\n",
    "\n",
    "# Load data into DuckDB tables\n",
    "conn.execute(f\"\"\"\n",
    "    CREATE TABLE IF NOT EXISTS crime AS \n",
    "    SELECT * FROM read_csv_auto('{crime_data}', HEADER=TRUE, DELIM=',')\n",
    "\"\"\")\n",
    "\n",
    "conn.execute(f\"\"\"\n",
    "    CREATE TABLE IF NOT EXISTS inspection AS \n",
    "    SELECT * FROM read_csv_auto('{ins_data}', HEADER=TRUE, DELIM=',')\n",
    "\"\"\")\n",
    "\n",
    "# Apply cleaning transformations (example: remove NULL values)\n",
    "conn.execute(\"DELETE FROM crime WHERE `Premis Desc` IS NULL;\")\n",
    "conn.execute(\"DELETE FROM inspection WHERE Latitude IS NULL OR Longitude IS NULL;\")\n",
    "\n",
    "# Save cleaned data as CSV for Spark processing\n",
    "processed_crime = \"data/processed/crime_final.csv\"\n",
    "processed_ins = \"data/processed/ins.csv\"\n",
    "\n",
    "conn.execute(f\"COPY crime TO '{processed_crime}' (FORMAT CSV, HEADER TRUE);\")\n",
    "conn.execute(f\"COPY inspection TO '{processed_ins}' (FORMAT CSV, HEADER TRUE);\")\n",
    "\n",
    "print(\"✅ DuckDB processing completed. Cleaned data saved for Spark.\")\n",
    "\n",
    "# Close connection\n",
    "conn.close()"
   ]
  }
 ],
 "metadata": {
  "kernelspec": {
   "display_name": "Python 3 (ipykernel)",
   "language": "python",
   "name": "python3"
  },
  "language_info": {
   "codemirror_mode": {
    "name": "ipython",
    "version": 3
   },
   "file_extension": ".py",
   "mimetype": "text/x-python",
   "name": "python",
   "nbconvert_exporter": "python",
   "pygments_lexer": "ipython3",
   "version": "3.12.7"
  },
  "papermill": {
   "default_parameters": {},
   "duration": 1.138131,
   "end_time": "2025-03-15T23:25:07.050949",
   "environment_variables": {},
   "exception": true,
   "input_path": "notebooks/duckdb_pipeline.ipynb",
   "output_path": "notebooks/output_duck.ipynb",
   "parameters": {},
   "start_time": "2025-03-15T23:25:05.912818",
   "version": "2.6.0"
  }
 },
 "nbformat": 4,
 "nbformat_minor": 5
}