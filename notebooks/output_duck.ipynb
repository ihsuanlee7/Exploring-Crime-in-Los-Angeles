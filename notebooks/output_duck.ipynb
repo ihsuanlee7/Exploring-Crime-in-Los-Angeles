{
 "cells": [
  {
   "cell_type": "markdown",
   "id": "da6b260d",
   "metadata": {
    "tags": [
     "papermill-error-cell-tag"
    ]
   },
   "source": [
    "<span style=\"color:red; font-family:Helvetica Neue, Helvetica, Arial, sans-serif; font-size:2em;\">An Exception was encountered at '<a href=\"#papermill-error-cell\">In [1]</a>'.</span>"
   ]
  },
  {
   "cell_type": "markdown",
   "id": "95f084ef",
   "metadata": {
    "tags": [
     "papermill-error-cell-tag"
    ]
   },
   "source": [
    "<span id=\"papermill-error-cell\" style=\"color:red; font-family:Helvetica Neue, Helvetica, Arial, sans-serif; font-size:2em;\">Execution using papermill encountered an exception here and stopped:</span>"
   ]
  },
  {
   "cell_type": "code",
   "execution_count": 1,
   "id": "99678ab9",
   "metadata": {
    "execution": {
     "iopub.execute_input": "2025-03-15T19:17:42.342888Z",
     "iopub.status.busy": "2025-03-15T19:17:42.342529Z",
     "iopub.status.idle": "2025-03-15T19:17:42.483988Z",
     "shell.execute_reply": "2025-03-15T19:17:42.483643Z"
    },
    "papermill": {
     "duration": 0.148989,
     "end_time": "2025-03-15T19:17:42.484627",
     "exception": true,
     "start_time": "2025-03-15T19:17:42.335638",
     "status": "failed"
    },
    "tags": []
   },
   "outputs": [
    {
     "ename": "ModuleNotFoundError",
     "evalue": "No module named 'duckdb'",
     "output_type": "error",
     "traceback": [
      "\u001b[0;31m---------------------------------------------------------------------------\u001b[0m",
      "\u001b[0;31mModuleNotFoundError\u001b[0m                       Traceback (most recent call last)",
      "Cell \u001b[0;32mIn[1], line 1\u001b[0m\n\u001b[0;32m----> 1\u001b[0m \u001b[38;5;28;01mimport\u001b[39;00m \u001b[38;5;21;01mduckdb\u001b[39;00m\n\u001b[1;32m      2\u001b[0m conn \u001b[38;5;241m=\u001b[39m duckdb\u001b[38;5;241m.\u001b[39mconnect(\u001b[38;5;124m'\u001b[39m\u001b[38;5;124m/Users/neifang/Downloads/my_database.db\u001b[39m\u001b[38;5;124m'\u001b[39m)\n\u001b[1;32m      3\u001b[0m conn\u001b[38;5;241m.\u001b[39mexecute(\u001b[38;5;124m\"\u001b[39m\u001b[38;5;124mCREATE TABLE IF NOT EXISTS inspection AS SELECT * FROM read_csv_auto(\u001b[39m\u001b[38;5;124m'\u001b[39m\u001b[38;5;124m/Users/neifang/Downloads/ins.csv\u001b[39m\u001b[38;5;124m'\u001b[39m\u001b[38;5;124m, HEADER=TRUE, DELIM=\u001b[39m\u001b[38;5;124m'\u001b[39m\u001b[38;5;124m,\u001b[39m\u001b[38;5;124m'\u001b[39m\u001b[38;5;124m)\u001b[39m\u001b[38;5;124m\"\u001b[39m)\n",
      "\u001b[0;31mModuleNotFoundError\u001b[0m: No module named 'duckdb'"
     ]
    }
   ],
   "source": [
    "import duckdb\n",
    "conn = duckdb.connect('/Users/neifang/Downloads/my_database.db')\n",
    "conn.execute(\"CREATE TABLE IF NOT EXISTS inspection AS SELECT * FROM read_csv_auto('/Users/neifang/Downloads/ins.csv', HEADER=TRUE, DELIM=',')\")"
   ]
  },
  {
   "cell_type": "code",
   "execution_count": null,
   "id": "01a86600",
   "metadata": {
    "papermill": {
     "duration": null,
     "end_time": null,
     "exception": null,
     "start_time": null,
     "status": "pending"
    },
    "tags": []
   },
   "outputs": [],
   "source": [
    "conn.execute(\"\"\"\n",
    "    CREATE TABLE IF NOT EXISTS crime AS \n",
    "    SELECT * \n",
    "    FROM read_csv_auto(\n",
    "        '/Users/neifang/Downloads/crime.csv', \n",
    "        HEADER=TRUE, \n",
    "        DELIM=','\n",
    "    )\n",
    "\"\"\")"
   ]
  },
  {
   "cell_type": "code",
   "execution_count": null,
   "id": "dff495b9",
   "metadata": {
    "papermill": {
     "duration": null,
     "end_time": null,
     "exception": null,
     "start_time": null,
     "status": "pending"
    },
    "tags": []
   },
   "outputs": [],
   "source": [
    "# List all tables in the database\n",
    "print(conn.execute(\"SHOW TABLES\").fetchall())"
   ]
  },
  {
   "cell_type": "code",
   "execution_count": null,
   "id": "56794c4d",
   "metadata": {
    "papermill": {
     "duration": null,
     "end_time": null,
     "exception": null,
     "start_time": null,
     "status": "pending"
    },
    "tags": []
   },
   "outputs": [],
   "source": [
    "conn.execute(\"DESCRIBE crime;\").fetchall()"
   ]
  },
  {
   "cell_type": "code",
   "execution_count": null,
   "id": "90aef977",
   "metadata": {
    "papermill": {
     "duration": null,
     "end_time": null,
     "exception": null,
     "start_time": null,
     "status": "pending"
    },
    "tags": []
   },
   "outputs": [],
   "source": [
    "conn.execute(\"SELECT * FROM crime LIMIT 5;\").fetchall()"
   ]
  },
  {
   "cell_type": "code",
   "execution_count": null,
   "id": "95a62471",
   "metadata": {
    "papermill": {
     "duration": null,
     "end_time": null,
     "exception": null,
     "start_time": null,
     "status": "pending"
    },
    "tags": []
   },
   "outputs": [],
   "source": [
    "existing_columns = conn.execute(\"DESCRIBE crime\").fetchdf()['column_name'].tolist()\n",
    "\n",
    "# Add column only if it doesn't exist\n",
    "if 'downtown_distance' not in existing_columns:\n",
    "    conn.execute(\"ALTER TABLE crime ADD COLUMN downtown_distance TEXT;\")\n",
    "    print(\"Column 'downtown_distance' added.\")\n",
    "else:\n",
    "    print(\"Column 'downtown_distance' already exists.\")"
   ]
  },
  {
   "cell_type": "code",
   "execution_count": null,
   "id": "053bb092",
   "metadata": {
    "papermill": {
     "duration": null,
     "end_time": null,
     "exception": null,
     "start_time": null,
     "status": "pending"
    },
    "tags": []
   },
   "outputs": [],
   "source": [
    "#compare the distance between the crime location and downtown LA\n",
    "distance_query =\"\"\"\n",
    "UPDATE crime\n",
    "SET downtown_distance = CASE\n",
    "    WHEN SQRT(\n",
    "            POW((LAT - 34.0522) * 111, 2) + \n",
    "            POW((LON - (-118.2437)) * 92, 2)\n",
    "        ) <= 10 THEN '0-10km'\n",
    "    WHEN SQRT(\n",
    "            POW((LAT - 34.0522) * 111, 2) + \n",
    "            POW((LON - (-118.2437)) * 92, 2)\n",
    "        ) <= 20 THEN '10-20km'\n",
    "    ELSE '>20km'\n",
    "END;\n",
    "\"\"\""
   ]
  },
  {
   "cell_type": "code",
   "execution_count": null,
   "id": "26d7a9f4",
   "metadata": {
    "papermill": {
     "duration": null,
     "end_time": null,
     "exception": null,
     "start_time": null,
     "status": "pending"
    },
    "tags": []
   },
   "outputs": [],
   "source": [
    "distance_query = \"\"\"\n",
    "SELECT \n",
    "    *,\n",
    "    CASE\n",
    "        WHEN distance_km <= 10 THEN '0-10km'::downtown_distance\n",
    "        WHEN distance_km <= 20 THEN '10-20km'::downtown_distance\n",
    "        ELSE '>20km'::downtown_distance\n",
    "    END AS distance_group\n",
    "FROM (\n",
    "    SELECT\n",
    "        *,\n",
    "        -- Fast distance approximation from Downtown LA using planar coordinates according to forums:\n",
    "        -- (111 km/degree for latitude, 92 km/degree for longitude at 34°N)\n",
    "        SQRT(\n",
    "            POW((LAT - 34.0522) * 111, 2) + \n",
    "            POW((LON - (-118.2437)) * 92, 2)\n",
    "        ) AS distance_km\n",
    "    FROM crime\n",
    ") sub\n",
    "\"\"\"\n"
   ]
  },
  {
   "cell_type": "code",
   "execution_count": null,
   "id": "bf860b79",
   "metadata": {
    "papermill": {
     "duration": null,
     "end_time": null,
     "exception": null,
     "start_time": null,
     "status": "pending"
    },
    "tags": []
   },
   "outputs": [],
   "source": [
    "conn.execute(distance_query)"
   ]
  },
  {
   "cell_type": "code",
   "execution_count": null,
   "id": "6c9a5cd0",
   "metadata": {
    "papermill": {
     "duration": null,
     "end_time": null,
     "exception": null,
     "start_time": null,
     "status": "pending"
    },
    "tags": []
   },
   "outputs": [],
   "source": [
    "conn.execute(\"DESCRIBE crime\").fetchall()"
   ]
  },
  {
   "cell_type": "code",
   "execution_count": null,
   "id": "9456e6e6",
   "metadata": {
    "papermill": {
     "duration": null,
     "end_time": null,
     "exception": null,
     "start_time": null,
     "status": "pending"
    },
    "tags": []
   },
   "outputs": [],
   "source": [
    "conn.execute(\"ALTER TABLE crime ADD COLUMN IF NOT EXISTS nearby_inspection_count INTEGER DEFAULT 0\")"
   ]
  },
  {
   "cell_type": "code",
   "execution_count": null,
   "id": "0faab630",
   "metadata": {
    "papermill": {
     "duration": null,
     "end_time": null,
     "exception": null,
     "start_time": null,
     "status": "pending"
    },
    "tags": []
   },
   "outputs": [],
   "source": [
    "# \n",
    "conn.execute(\"\"\"\n",
    "UPDATE crime \n",
    "SET nearby_inspection_count = (\n",
    "    SELECT COUNT(*)\n",
    "    FROM inspection\n",
    "    WHERE \n",
    "        -- Bounding box filter (fast first pass)\n",
    "        inspection.latitude BETWEEN crime.LAT - 0.005 AND crime.LAT + 0.005\n",
    "        AND inspection.longitude BETWEEN crime.LON - 0.005 AND crime.LON + 0.005\n",
    "        AND (POW((inspection.latitude - crime.LAT) * 111000, 2) + \n",
    "             POW((inspection.longitude - crime.LON) * 92000, 2)) < 250000  \n",
    ");\n",
    "\"\"\")"
   ]
  },
  {
   "cell_type": "code",
   "execution_count": null,
   "id": "3d86d4e6",
   "metadata": {
    "papermill": {
     "duration": null,
     "end_time": null,
     "exception": null,
     "start_time": null,
     "status": "pending"
    },
    "tags": []
   },
   "outputs": [],
   "source": [
    "conn.execute(\"COPY crime TO 'crime_final.csv' (FORMAT CSV, HEADER TRUE);\")\n"
   ]
  },
  {
   "cell_type": "code",
   "execution_count": null,
   "id": "d03d24fe",
   "metadata": {
    "papermill": {
     "duration": null,
     "end_time": null,
     "exception": null,
     "start_time": null,
     "status": "pending"
    },
    "tags": []
   },
   "outputs": [],
   "source": [
    "conn.close()"
   ]
  },
  {
   "cell_type": "code",
   "execution_count": null,
   "id": "c63cda60",
   "metadata": {
    "papermill": {
     "duration": null,
     "end_time": null,
     "exception": null,
     "start_time": null,
     "status": "pending"
    },
    "tags": []
   },
   "outputs": [],
   "source": [
    "# Verify the update worked by checking a few rows if needed\n",
    "result = conn.execute(\"SELECT * FROM crime LIMIT 5\").fetchdf()\n",
    "print(result)"
   ]
  },
  {
   "cell_type": "code",
   "execution_count": null,
   "id": "0c5a3f55",
   "metadata": {
    "papermill": {
     "duration": null,
     "end_time": null,
     "exception": null,
     "start_time": null,
     "status": "pending"
    },
    "tags": []
   },
   "outputs": [],
   "source": [
    "#helper cell to check file directory\n",
    "import os\n",
    "\n",
    "file_path = '/Users/neifang/Downloads/spark_processed/crime_processed.parquet'  # Replace with the actual file path\n",
    "\n",
    "if os.path.exists(file_path):\n",
    "    print(f\"The path '{file_path}' exists.\")\n",
    "else:\n",
    "    print(f\"The path '{file_path}' does not exist.\")"
   ]
  }
 ],
 "metadata": {
  "kernelspec": {
   "display_name": "base",
   "language": "python",
   "name": "python3"
  },
  "language_info": {
   "codemirror_mode": {
    "name": "ipython",
    "version": 3
   },
   "file_extension": ".py",
   "mimetype": "text/x-python",
   "name": "python",
   "nbconvert_exporter": "python",
   "pygments_lexer": "ipython3",
   "version": "3.12.7"
  },
  "papermill": {
   "default_parameters": {},
   "duration": 1.236087,
   "end_time": "2025-03-15T19:17:42.600243",
   "environment_variables": {},
   "exception": true,
   "input_path": "notebooks/duckdb_pipeline.ipynb",
   "output_path": "notebooks/output_duck.ipynb",
   "parameters": {},
   "start_time": "2025-03-15T19:17:41.364156",
   "version": "2.6.0"
  }
 },
 "nbformat": 4,
 "nbformat_minor": 5
}