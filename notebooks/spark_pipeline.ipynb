{
 "cells": [
  {
   "cell_type": "code",
   "execution_count": null,
   "id": "ac5247f7",
   "metadata": {},
   "outputs": [],
   "source": [
    "from pyspark.sql import SparkSession\n",
    "from pyspark.sql.functions import year, month, col\n",
    "import os\n",
    "\n",
    "# Initialize Spark session\n",
    "spark = SparkSession.builder \\\n",
    "    .appName(\"Crime and Inspection Data Processing\") \\\n",
    "    .config(\"spark.driver.memory\", \"2g\") \\\n",
    "    .getOrCreate()\n",
    "\n",
    "# Ensure necessary directories exist\n",
    "os.makedirs(\"/home/ubuntu/data/processed\", exist_ok=True)\n",
    "\n",
    "# Define file paths on EC2\n",
    "crime_input_path = \"/home/ubuntu/data/processed/crime_final.csv\"\n",
    "ins_input_path = \"/home/ubuntu/data/processed/ins.csv\"\n",
    "crime_output_path = \"/home/ubuntu/data/processed/crime_final_spark.csv\"\n",
    "ins_output_path = \"/home/ubuntu/data/processed/ins_final_spark.csv\"\n",
    "\n",
    "# Load processed DuckDB data\n",
    "crime = spark.read.csv(crime_input_path, header=True, inferSchema=True)\n",
    "ins = spark.read.csv(ins_input_path, header=True, inferSchema=True)\n",
    "\n",
    "# Apply transformations (matching original logic)\n",
    "crime = crime.withColumn(\"Year\", year(col(\"DATE OCC\"))).withColumn(\"Month\", month(col(\"DATE OCC\")))\n",
    "ins = ins.withColumn(\"Year\", year(col(\"Inspection Date\"))).withColumn(\"Month\", month(col(\"Inspection Date\")))\n",
    "\n",
    "# Save transformed data for Tableau (overwrite existing)\n",
    "crime.write.csv(crime_output_path, header=True, mode=\"overwrite\")\n",
    "ins.write.csv(ins_output_path, header=True, mode=\"overwrite\")\n",
    "\n",
    "print(\"Spark processing completed. Transformed data saved for Tableau.\")\n",
    "\n",
    "# Stop Spark session\n",
    "spark.stop()"
   ]
  }
 ],
 "metadata": {
  "kernelspec": {
   "display_name": "Python 3 (ipykernel)",
   "language": "python",
   "name": "python3"
  },
  "language_info": {
   "codemirror_mode": {
    "name": "ipython",
    "version": 3
   },
   "file_extension": ".py",
   "mimetype": "text/x-python",
   "name": "python",
   "nbconvert_exporter": "python",
   "pygments_lexer": "ipython3",
   "version": "3.12.7"
  }
 },
 "nbformat": 4,
 "nbformat_minor": 5
}
